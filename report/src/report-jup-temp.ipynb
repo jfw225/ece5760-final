{
 "cells": [
  {
   "cell_type": "markdown",
   "metadata": {},
   "source": [
    "\n",
    "## Introduction to Verython\n",
    "Complex structures such as neural networks comprise high-dimensional arrays and a large number of operations. Manually writing our model in Verilog would have been impossible under the three week time constraints--doing so would require tens of thousands of lines of handtyped Verilog. Instead, we wrote a Python library to write the Verilog for us. \n",
    "\n",
    "***[Verython](https://github.com/jfw225/verython)*** (portmanteau of Verilog and Python pronounced \"verithon\") is a Python to Verilog transpiler which generates Verilog modules from objects created in Python. Additionally, it interfaces directly with the free version of Intel's ModelSim to compile the Verilog, simulate the module's waveforms, and export that data back to Python where it compares the simulated data with the expected data computed in Python.\n"
   ]
  },
  {
   "cell_type": "markdown",
   "metadata": {},
   "source": [
    "<!-- container: dark -->\n",
    "#### Syntax \n",
    "We start with the notion that lines of code in Verilog (or most languages for that matter) are simply sentences, and we can represent a sentence in Python as a `string`. Thus, if we can generate strings, we can generate Verilog. As we get into the structures in the library, you may notice the use of some types. These types are all defined in **Appendix A: Verython**, and we encourage the reader to reference the appendix in the case of confusion."
   ]
  },
  {
   "cell_type": "markdown",
   "metadata": {},
   "source": [
    "\n",
    "##### V_Block\n",
    "The most fundamental object in ***Verython*** is the `V_Block` object:"
   ]
  },
  {
   "cell_type": "code",
   "execution_count": null,
   "metadata": {},
   "outputs": [],
   "source": [
    "# python\n",
    "class V_Block(List[str]):\n",
    "    \"\"\"\n",
    "    The type representing a block of verilog code tabbed to the relative level.\n",
    "    \"\"\"\n",
    "\n",
    "    def __init__(self, *lines: List[str]):\n",
    "        super().__init__([V_Line(line) for line in lines])"
   ]
  },
  {
   "cell_type": "markdown",
   "metadata": {},
   "source": [
    "A `V_Block` object is essentially a list of `string` objects where each `string` is some line of Verilog code. For instance, the following `V_Block` instance\n"
   ]
  },
  {
   "cell_type": "code",
   "execution_count": null,
   "metadata": {},
   "outputs": [],
   "source": [
    "# python\n",
    "width = 4\n",
    "V_Block(\n",
    "    f\"wire [{width - 1}:0] w;\",\n",
    "    # `*` unpacks each of the strings in the list\n",
    "    *[f\"assign w[{i}] = 1'b1;\" for i in range(width)]\n",
    ")"
   ]
  },
  {
   "cell_type": "markdown",
   "metadata": {},
   "source": [
    "generates the following verilog code"
   ]
  },
  {
   "cell_type": "code",
   "execution_count": null,
   "metadata": {
    "vscode": {
     "languageId": "verilog"
    }
   },
   "outputs": [],
   "source": [
    "# verilog\n",
    "wire [3:0] w;\n",
    "assign w[0] = 1'b1;\n",
    "assign w[1] = 1'b1;\n",
    "assign w[2] = 1'b1;\n",
    "assign w[3] = 1'b1;"
   ]
  },
  {
   "cell_type": "markdown",
   "metadata": {},
   "source": [
    "Obviously, this alone is nothing special, but it provides an easy, readible way to group lines of code and rapidly generate a large amount of Verilog. "
   ]
  },
  {
   "cell_type": "markdown",
   "metadata": {},
   "source": [
    "\n",
    "##### Core Blocked Syntax\n",
    "Since Verilog can be represented by a group of `string` objects, we can represent each of Verilog's core blocked syntax as `V_Block` objects. Here we will show the ***Verython*** version of Verilog Always and If/Else statements, but the rest of the core blocked syntax can be seen in **Appendix A: Verython**."
   ]
  },
  {
   "cell_type": "code",
   "execution_count": null,
   "metadata": {},
   "outputs": [],
   "source": [
    "# python\n",
    "def V_Always(\n",
    "    edge: V_PosEdge or V_NegEdge,\n",
    "    signal: V_Expression or V_Port or V_Variable\n",
    "):\n",
    "\n",
    "    def build(*lines: V_Block) -> V_Block:\n",
    "        return V_Block(\n",
    "            f\"always @ ({edge()} {signal.name}) begin\",\n",
    "            *[f\"\\t{line}\" for line in lines],\n",
    "            \"end\"\n",
    "        )\n",
    "\n",
    "    return build\n",
    "    \n",
    "def V_If(\n",
    "    predicate: V_Expression or V_ObjectBase\n",
    "):\n",
    "\n",
    "    assert isinstance(predicate, (V_Expression, V_ObjectBase)\n",
    "                      ), f'\"{predicate}\" is not a valid predicate.'\n",
    "\n",
    "    def build(*lines: Iterable[V_Line]) -> V_Block:\n",
    "        return V_Block(\n",
    "            f\"if ({predicate}) begin\",\n",
    "            *[f\"\\t{line}\" for line in lines],\n",
    "            \"end\"\n",
    "        )\n",
    "\n",
    "    return build\n",
    "\n",
    "\n",
    "def V_Else(\n",
    "    *lines: Iterable[V_Line]\n",
    ") -> V_Block:\n",
    "\n",
    "    return V_Block(\n",
    "        f\"else begin\",\n",
    "        *[f\"\\t{line}\" for line in lines],\n",
    "        \"end\"\n",
    "    )"
   ]
  },
  {
   "cell_type": "markdown",
   "metadata": {},
   "source": [
    "All of the blocked syntax overloads return `V_Block` object, and since a `V_Block` object inherits all of the properties of a Python list, we can use the `*` operator to unpack a `V_Block` into another `V_Block`. For instance, the following two examples are equivalent."
   ]
  },
  {
   "cell_type": "code",
   "execution_count": null,
   "metadata": {},
   "outputs": [],
   "source": [
    "# python\n",
    "V_Block(\n",
    "    \"wire clk;\",\n",
    "    \"reg [3:0] w;\",\n",
    "    *V_Always(V_Posedge, \"clk\")(\n",
    "        *V_If(\"w == 4'd0\")(\n",
    "            \"w <= 4'd1;\"\n",
    "        )\n",
    "    )\n",
    "    \n",
    ") # is equivalent to\n",
    "\n",
    "V_Block(\n",
    "    \"wire clk;\",\n",
    "    \"reg [3:0] w;\",\n",
    "    \"\".join(*V_Always(V_Posedge, \"clk\")(\n",
    "        \"\".join(V_If(\"w == 4'd0\")(\n",
    "            \"w <= 4'd1;\"\n",
    "        ))\n",
    "    ))\n",
    ")"
   ]
  },
  {
   "cell_type": "markdown",
   "metadata": {},
   "source": [
    "Generated Verilog:"
   ]
  },
  {
   "cell_type": "code",
   "execution_count": null,
   "metadata": {
    "vscode": {
     "languageId": "verilog"
    }
   },
   "outputs": [],
   "source": [
    "# verilog\n",
    "wire clk;\n",
    "reg [3:0] w;\n",
    "always @(posedge clk) begin\n",
    "    if (w == 4'd0) begin\n",
    "        w <= 4'd1;\n",
    "    end\n",
    "end"
   ]
  },
  {
   "cell_type": "markdown",
   "metadata": {},
   "source": [
    "All of ***Verython*** syntax can be combined in `V_Block` objects to create complex, powerful structures that would be very tedious and cumbersome to manually write in Verilog. "
   ]
  },
  {
   "cell_type": "markdown",
   "metadata": {},
   "source": [
    "\n",
    "<!-- container: default -->\n",
    "#### Objects \n",
    "Up until now, you may have noticed that number, wire, and register definitions usage were manually typed in Python `string` objects. However, this disappears with the introduction of ***Verython*** objects.\n",
    "\n",
    "##### V_Int and V_FixedPoint"
   ]
  },
  {
   "cell_type": "code",
   "execution_count": null,
   "metadata": {},
   "outputs": [],
   "source": [
    "# python\n",
    "class V_Int(V_Expression):\n",
    "    \"\"\" full implementation not shown \"\"\"\n",
    "\n",
    "class V_FixedPoint(V_Expression):\n",
    "    \"\"\" full implementation not shown \"\"\""
   ]
  },
  {
   "cell_type": "markdown",
   "metadata": {},
   "source": [
    "Instances of `V_Int` and `V_FixedPoint` objects keep track of the required bit widths. This is used by ***Verython*** to convert these instances to the proper Verilog format and add an additional layer of error checking before compilation. In addition, Python allows the developer to overload each of the standard library operators for an object. We leveraged this to make the following equivalence possible."
   ]
  },
  {
   "cell_type": "code",
   "execution_count": null,
   "metadata": {},
   "outputs": [],
   "source": [
    "# python\n",
    "a = V_Int(1, width=4)\n",
    "b = V_FixedPoint(1, int_width=1, dec_width=3)\n",
    "\n",
    "V_Block(\n",
    "    \"wire [3:0] a, b;\",\n",
    "    f\"assign a = {a};\", \n",
    "    f\"assign b = {b};\"\n",
    ") # is equivalent to \n",
    "\n",
    "V_Block(\n",
    "    \"wire [3:0] a, b;\",\n",
    "    \"assign a = 4'b0001;\",\n",
    "    \"assign b = 4'b1_000;\"\n",
    ")"
   ]
  },
  {
   "cell_type": "markdown",
   "metadata": {},
   "source": [
    "Generated Verilog:"
   ]
  },
  {
   "cell_type": "code",
   "execution_count": null,
   "metadata": {
    "vscode": {
     "languageId": "verilog"
    }
   },
   "outputs": [],
   "source": [
    "# verilog\n",
    "wire [3:0] a, b;\n",
    "assign a = 4'd1;\n",
    "assign b = 4'b1_000;"
   ]
  },
  {
   "cell_type": "markdown",
   "metadata": {},
   "source": [
    "\n",
    "##### V_Port, V_Variable, and V_Array"
   ]
  },
  {
   "cell_type": "code",
   "execution_count": null,
   "metadata": {},
   "outputs": [],
   "source": [
    "# python\n",
    "class V_ObjectBase:\n",
    "    \"\"\" full implementation not shown \"\"\"\n",
    "\n",
    "class V_Port(V_ObjectBase):\n",
    "    \"\"\" full implementation not shown \"\"\"\n",
    "\n",
    "class V_Variable(V_ObjectBase):\n",
    "    \"\"\" full implementation not shown \"\"\"\n",
    "\n",
    "class V_Array(V_ObjectBase, metaclass=V_ArrayMeta):\n",
    "    \"\"\" full implementation not shown \"\"\""
   ]
  },
  {
   "cell_type": "markdown",
   "metadata": {},
   "source": [
    "***Verython*** also has an object representation of Verilog ports, wires, registers, and arrays. Similar to `V_Int` and `V_FixedPoint`, each of the ***Verython*** objects defined above keep track of bit widths and have their default Python operators overloaded. This enables the  ***Verython*** to make the following transcompilation:\n"
   ]
  },
  {
   "cell_type": "code",
   "execution_count": null,
   "metadata": {},
   "outputs": [],
   "source": [
    "# python\n",
    "a = V_Int(1, width=4)\n",
    "b = V_FixedPoint(1, int_width=1, dec_width=3)\n",
    "\n",
    "pclk = V_Port(module=None,\n",
    "              port_type=V_Input,\n",
    "              name=\"clk\")\n",
    "preset = V_Port(module=None,\n",
    "                port_type=V_Input,\n",
    "                name=\"reset\")\n",
    "\n",
    "pcounter = V_Port(module=None,\n",
    "              port_type=V_Output,\n",
    "              dtype=V_Reg,\n",
    "              width=2,\n",
    "              name=\"counter\")\n",
    "\n",
    "wa = V_Variable(module=None,\n",
    "                dtype=V_Wire,\n",
    "                width=4,\n",
    "                name=\"example_wire\")\n",
    "\n",
    "rb = V_Variable(module=None,\n",
    "                dtype=V_Reg,\n",
    "                width=4\n",
    "                signed=True,\n",
    "                name=\"example_reg\")\n",
    "\n",
    "arc = V_Array(module=None,\n",
    "              dtype=V_RegArray,\n",
    "              width=4,\n",
    "              size=2,\n",
    "              name=\"example_array\")\n",
    "\n",
    "V_Block(\n",
    "    \"module count_to_four(\",\n",
    "    pclk, preset,\n",
    "    pcounter,\n",
    "    \");\",\n",
    "    wa, rb, arc,\n",
    "\n",
    "    *V_Always(V_PosEdge, pclk)(\n",
    "        *V_If(preset)(\n",
    "            pcounter.set(0)\n",
    "\n",
    "            rb.set(0),\n",
    "\n",
    "            arc[0].set(a),\n",
    "            arc[1].set(b),\n",
    "\n",
    "        ), *V_Else(\n",
    "            pcounter.set(pcounter + 1),\n",
    "\n",
    "            rb.set(rb + 1),\n",
    "\n",
    "            arc[rb].set(wa)\n",
    "        ),\n",
    "\n",
    "        *V_If(rb + 1 == 2)(\n",
    "            rb.set(0)\n",
    "        )\n",
    "    ),\n",
    "\n",
    "    wa.set(rb),\n",
    "    \"endmodule\"\n",
    ") "
   ]
  },
  {
   "cell_type": "markdown",
   "metadata": {},
   "source": [
    "Generated Verilog:"
   ]
  },
  {
   "cell_type": "code",
   "execution_count": null,
   "metadata": {
    "vscode": {
     "languageId": "verilog"
    }
   },
   "outputs": [],
   "source": [
    "# verilog\n",
    "module count_to_four(\n",
    "    input clk, reset,\n",
    "    output reg [1:0] counter\n",
    ");\n",
    "    wire [3:0] example_wire;\n",
    "    reg signed [3:0] example_reg;\n",
    "    reg [3:0] example_array [1:0];\n",
    "\n",
    "    always @(posedge clk) begin\n",
    "        if (reset) begin\n",
    "            counter <= 2'd0;\n",
    "            \n",
    "            example_reg <= 4'd0;\n",
    "\n",
    "            example_array[0] <= 4'd1;\n",
    "            example_array[1] <= 4'b1_000;\n",
    "        end else begin\n",
    "            counter <= counter + 2'd1;\n",
    "\n",
    "            example_reg <= example_reg + 4'd1;\n",
    "\n",
    "            example_array[example_reg] <= example_wire;\n",
    "        end\n",
    "\n",
    "        if (example_reg + 4'd1 == 4'd2) begin\n",
    "            example_reg <= 4'd0;\n",
    "        end\n",
    "    end\n",
    "\n",
    "    assign example_wire = example_reg;\n",
    "\n",
    "endmodule"
   ]
  },
  {
   "cell_type": "markdown",
   "metadata": {},
   "source": [
    "\n",
    "<!-- container: dark -->\n",
    "#### Modules\n",
    "\n",
    "If you were at all concerned that you were going to have to manually write out the module header and footer, let me put your mind at ease. ***Verython*** also enables you to write Verilog modules entirely in Python. For the full implementation, look at **Appendix A: Verython**.\n",
    "\n",
    "[V_Module](https://github.com/jfw225/mnist-cnn-fpga/blob/main/src/python/verilog/core/vmodule.py)"
   ]
  },
  {
   "cell_type": "code",
   "execution_count": null,
   "metadata": {},
   "outputs": [],
   "source": [
    "# python\n",
    "class V_Module:\n",
    "    \"\"\"\n",
    "    The base class for a verilog module.\n",
    "    \"\"\"\n",
    "\n",
    "class V_Iterable(V_Module):\n",
    "    \"\"\"\n",
    "    An object that implements an iterable verilog data structure. \n",
    "\n",
    "    Attributes:\n",
    "        `clk` -- 1-bit input signal\n",
    "            The port connecting this module to the clock line.\n",
    "\n",
    "        `reset` -- 1-bit input signal\n",
    "            The port that enables the caller to reset this module. \n",
    "\n",
    "        `write_en` -- 1-bit input signal\n",
    "            When this signal is HIGH, the data loaded onto `write_data` is \n",
    "            stored in memory at address `write_addr`.\n",
    "\n",
    "        `read_addr` -- (ceil(log2(size)))-bit input signal\n",
    "            The address from which data is read.\n",
    "\n",
    "        `write_addr` -- (ceil(log2(size)))-bit input signal\n",
    "            The address to which data is written.\n",
    "\n",
    "        `read_data` -- (width)-bit output signal\n",
    "            The data line into which data is read from memory at address \n",
    "            `read_addr`.\n",
    "\n",
    "        `write_data` -- (width)-bit input signal\n",
    "            The data line which is written to memory at address `write_addr`.\n",
    "    \"\"\"\n",
    "\n",
    "class V_Target(V_Module):\n",
    "    \"\"\"\n",
    "    The implementation of a module that can be used as the target \n",
    "    function in any module. \n",
    "\n",
    "    Attributes:\n",
    "        `clk` -- 1-bit input signal\n",
    "            The port connecting this module to the clock line.\n",
    "\n",
    "        `reset` -- 1-bit input signal\n",
    "            The port that enables the caller to reset this module. \n",
    "\n",
    "        `valid` -- 1-bit input signal\n",
    "            The port that indicates whether or not the input data is valid. The\n",
    "            caller can manipulate this signal to indicate whether or not the \n",
    "            input data is valid.\n",
    "\n",
    "        `done` -- 1-bit output signal\n",
    "            The port indicating whether or not the target function has finished \n",
    "            computation for a given input. When this flag is `HIGH`, the output \n",
    "            data is valid. Thus, the target module should raise this signal \n",
    "            when it finishes its task.\n",
    "\n",
    "        `ready` -- 1-bit output signal\n",
    "            The port indicating whether or not the target module is ready \n",
    "            to begin a task. \n"
   ]
  },
  {
   "cell_type": "markdown",
   "metadata": {},
   "source": [
    "As an example, we will show a ***Verython*** implementation of an M10K block."
   ]
  },
  {
   "cell_type": "code",
   "execution_count": null,
   "metadata": {},
   "outputs": [],
   "source": [
    "# python\n",
    "class M10K(V_Iterable):\n",
    "\n",
    "    def __init__(\n",
    "        self,\n",
    "        width: BitWidth,\n",
    "        size: ArraySize,\n",
    "        **kwargs,\n",
    "    ):\n",
    "        super().__init__(width, size, **kwargs)\n",
    "\n",
    "        self.memory = V_Array(self, V_RegArray, self.width,\n",
    "                              self.size, name=\"memory\")\n",
    "\n",
    "        self.syn_style = '/* synthesis ramstyle = \"no_rw_check, M10K\" */'\n",
    "\n",
    "    def generate(self):\n",
    "\n",
    "        mem_fmt_base, *_ = self.memory.define().split(\";\")\n",
    "\n",
    "        return V_Block(\n",
    "            \"// force M10K ram style\",\n",
    "            f'{mem_fmt_base} {self.syn_style} ;'\n",
    "            \"\\n\",\n",
    "            *V_Always(V_PosEdge, self.clk)(\n",
    "                *V_If(self.write_en)(\n",
    "                    self.memory.set(self.write_addr, self.write_data)\n",
    "                ),\n",
    "                self.read_data.set(self.memory.get(self.read_addr))\n",
    "            )\n",
    "        )\n",
    "\n",
    "M10K(width=16, size=784).generate()"
   ]
  },
  {
   "cell_type": "markdown",
   "metadata": {},
   "source": [
    "Generated Verilog from an instance of `M10K` with `width=16` and `size=784`:"
   ]
  },
  {
   "cell_type": "code",
   "execution_count": null,
   "metadata": {
    "vscode": {
     "languageId": "verilog"
    }
   },
   "outputs": [],
   "source": [
    "# verilog\n",
    "module M10K(\n",
    "\tinput    clk,\n",
    "\tinput    write_enable,\n",
    "\tinput   [9:0] read_addr,\n",
    "\tinput   [9:0] write_addr,\n",
    "\toutput reg  [15:0] read_data,\n",
    "\tinput   [15:0] write_data\n",
    ");\n",
    "\t// force M10K ram style\n",
    "\treg  [15:0] memory [783:0]  /* synthesis ramstyle = \"no_rw_check, M10K\" */;\n",
    "\n",
    "\talways @ (posedge clk) begin\n",
    "\t\tif (write_enable) begin\n",
    "\t\t\tmemory[write_addr] <= write_data;\n",
    "\t\tend\n",
    "\t\tread_data <= memory[read_addr];\n",
    "\tend\n",
    "endmodule"
   ]
  },
  {
   "cell_type": "markdown",
   "metadata": {},
   "source": [
    "\n",
    "<!-- container: default -->\n",
    "#### States and State Machines\n",
    "The final piece of the architecture that we'll discuss in this elaborate introduction is ***Verython*** state machines. \n",
    "\n",
    "\n",
    "##### V_State"
   ]
  },
  {
   "cell_type": "code",
   "execution_count": null,
   "metadata": {},
   "outputs": [],
   "source": [
    "# python\n",
    "class V_State(metaclass=_V_State_Meta):\n",
    "    \"\"\"\n",
    "    The object representing a state in a verilog state machine.\n",
    "    \"\"\"\n",
    "\n",
    "    def __init__(self, state_id: V_StateID, width: BitWidth) -> None:\n",
    "        self.state_id = state_id\n",
    "        self.width = width\n",
    "\n",
    "    def generate(self, m: V_Module) -> V_Block:\n",
    "        \"\"\"\n",
    "        This function comprises the state logic: both what is done in the state\n",
    "        and how the state transitions. The return value should be some verilog\n",
    "        code and at least one state. The state machine will iterate through\n",
    "        the returned list of code and replace each `Type[V_State]` with an\n",
    "        assignment to change the state value. This should be overloaded.\n",
    "\n",
    "        If no state is found, the next state will be `V_StDone` and the\n",
    "        module's `done` flag will be raised.\n",
    "\n",
    "        The parameter `module` is the `V_Module` object in which this state\n",
    "        will be used.\n",
    "        \"\"\"\n",
    "\n",
    "        return V_Block(\n",
    "            *V_If(V_Expression(format_int(V_High, 1)))(\n",
    "                V_State\n",
    "            )\n",
    "        )\n",
    "\n",
    "\n",
    "class V_StateMachine:\n",
    "    \"\"\" \n",
    "    Verilog implementation of a finite state machine.\n",
    "    \"\"\"\n",
    "\n",
    "    def __init__(\n",
    "        self,\n",
    "        reset_state: Type[V_State],\n",
    "        *states: Iterable[Type[V_State]]\n",
    "    ) -> None:\n",
    "\n",
    "        # determine bit width needed for a state variable\n",
    "        # (+ 1 is for `V_StDone`)\n",
    "        self.width = BitWidth(ceil(log2(len(states) + 1)))\n",
    "\n",
    "        # set the reset state\n",
    "        self._reset_state = reset_state(\n",
    "            state_id=V_StateID(0), width=self.width)\n",
    "\n",
    "        # maps class types to initialized objects\n",
    "        self._state_map: Dict[NetName, V_State] = {\n",
    "            str(state): state(state_id=V_StateID(i), width=self.width)\n",
    "            for i, state in enumerate(states)\n",
    "        }\n",
    "\n",
    "    def generate(\n",
    "        self,\n",
    "        module: V_Module,\n",
    "        clk: V_Clock,\n",
    "        reset: V_Reset,\n",
    "        done: V_Done,\n",
    "        edge: Optional[V_PosEdge or V_NegEdge] = V_PosEdge\n",
    "    ) -> V_Block:\n",
    "        \"\"\"\n",
    "        This function generates a verilog state machine from `self._state_map` \n",
    "        that operates on the edge `edge of clock `clk`.\n",
    "\n",
    "        Each state has a `generate` function that should return an iterable \n",
    "        containing lines of verilog and at least `V_State` object. If no \n",
    "        `V_State` object is found, an error will be thrown.  \n",
    "\n",
    "        This function will create a state variable `state` in the verilog \n",
    "        module `module`, and will assign each of the states a value. We will \n",
    "        initialize `state` to `self._start_state` when `reset` is HIGH. \n",
    "\n",
    "        Let `V_i` denote the value assigned to the `i`-th state `S_i`. Then this \n",
    "        function will search through the iterables returned from each of the \n",
    "        `V_State.generate` calls and replace each `S_i` with `state <= V_i`.\n",
    "\n",
    "        The state machine will continue to run until `V_StDone` is \n",
    "        reached--at which point, the state machine will raise `done` and idle \n",
    "        until `reset` is set.\n",
    "        \"\"\"\n"
   ]
  },
  {
   "cell_type": "markdown",
   "metadata": {},
   "source": [
    "States in any sort of finite state machine usually have two roles: do something and transition to a state. \n",
    "\n",
    "The \"do something\" component is accomplished by providing each state with the module `m` that implements the state machine. Doing so gives the state access to all of the modules ports, variables, and instances. \n",
    "\n",
    "The transition part is a little tricky. Suppose when you make your state machine, you want some state $a$ to transition to some other state $b$, and once you get to $b$, you want to go back to $a$. This is implemented in the following pseudocode:"
   ]
  },
  {
   "cell_type": "code",
   "execution_count": null,
   "metadata": {},
   "outputs": [],
   "source": [
    "# python\n",
    "class StateA:\n",
    "    def __init__(self, state_b):\n",
    "        self.state_b = state_b\n",
    "\n",
    "    def transition(self):\n",
    "        do_something()\n",
    "\n",
    "        go_to_state(self.state_b)\n",
    "\n",
    "class StateB:\n",
    "    def __init__(self, state_a):\n",
    "        self.state_a = state_a\n",
    "\n",
    "    def transition(self):\n",
    "        do_something()\n",
    "\n",
    "        go_to_state(self.state_a)\n",
    "\n",
    "state_a = StateA(state_b=None)\n",
    "state_b = StateB(state_a=state_a)"
   ]
  },
  {
   "cell_type": "markdown",
   "metadata": {},
   "source": [
    "Well $a$ and $b$ are really referring to instances of some state object. Suppose you create $a$ first. Well $a$ needs to have a reference to $b$, but $b$ hasn't been instansiated yet. Same logic applies if you create $b$ first. We solve this issue by instead referencing states by their static type rather than their instance. And then at transpile-time, the `V_StateMachine` object creates some `state` register, assigns each referenced state type some number `n`, and replaces the static reference with `state <= n` inside of an always block. Our example above becomes:"
   ]
  },
  {
   "cell_type": "code",
   "execution_count": null,
   "metadata": {},
   "outputs": [],
   "source": [
    "# python\n",
    "class OnReset(V_State):\n",
    "    def generate(self, m: V_Module) -> V_Block(\n",
    "\n",
    "        return V_Block(\n",
    "            do_something(),\n",
    "\n",
    "            StateA\n",
    "        )\n",
    "    )\n",
    "\n",
    "class StateA(V_State):\n",
    "    def generate(self, m: V_Module) -> V_Block(\n",
    "\n",
    "        return V_Block(\n",
    "            do_something(),\n",
    "\n",
    "            StateB\n",
    "        )\n",
    "    )\n",
    "\n",
    "class StateB(V_State):\n",
    "    def generate(self, m: V_Module) -> V_Block(\n",
    "\n",
    "        return V_Block(\n",
    "            do_something(),\n",
    "\n",
    "            StateA\n",
    "        )\n",
    "    )\n",
    "\n",
    "# notice the state parameters are not instances, they are static types\n",
    "V_StateMachine(OnReset, StateA, StateB).generate()"
   ]
  },
  {
   "cell_type": "markdown",
   "metadata": {},
   "source": [
    "Generated Verilog:"
   ]
  },
  {
   "cell_type": "code",
   "execution_count": null,
   "metadata": {
    "vscode": {
     "languageId": "verilog"
    }
   },
   "outputs": [],
   "source": [
    "# verilog\n",
    "reg [1:0] state;\n",
    "\n",
    "always @(posedge clk) begin\n",
    "    if (reset) begin\n",
    "        // do something\n",
    "\n",
    "        // go to StateA\n",
    "        state <= 2'd0;\n",
    "    end\n",
    "    else begin \n",
    "        case (state)\n",
    "            // StateA\n",
    "            2'd0: begin\n",
    "                    // do something\n",
    "\n",
    "                    // go to StateB\n",
    "                    state <= 2'd1;\n",
    "                end\n",
    "            \n",
    "            // StateB\n",
    "            2'd1: begin\n",
    "                    // do something \n",
    "\n",
    "                    // go to StateA\n",
    "                    state <= 2'd0;\n",
    "                end\n",
    "        endcase\n",
    "    end\n",
    "end"
   ]
  },
  {
   "cell_type": "markdown",
   "metadata": {},
   "source": [
    "Combining the tools provided in the ***Verython*** library enables the rapid creation of robust and expansive Verilog code. In fact, let's talk about how we used it to do just that."
   ]
  }
 ],
 "metadata": {
  "language_info": {
   "name": "python"
  },
  "orig_nbformat": 4
 },
 "nbformat": 4,
 "nbformat_minor": 2
}
