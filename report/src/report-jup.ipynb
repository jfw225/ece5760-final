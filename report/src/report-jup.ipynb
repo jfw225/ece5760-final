{
 "cells": [
  {
   "cell_type": "markdown",
   "metadata": {},
   "source": [
    "# Rapid Implementation of Hardware Neural Networks Powered by Verython\n"
   ]
  },
  {
   "cell_type": "markdown",
   "metadata": {},
   "source": [
    "## Project Introduction\n",
    "\n"
   ]
  },
  {
   "cell_type": "markdown",
   "metadata": {},
   "source": [
    "## Introduction to Notation\n",
    "For some array $A$, let $A:[d1,\\dots,d_i,\\dots,d_n]$ indicate that that $A$ is $n$-dimensional and each dimension $1\\leq i\\leq n$ has a length of $d_i$. For example,\n",
    "$$A:[2, 3]=\\begin{bmatrix} a_{1, 1} & a_{1,2} & a_{1,3} \\\\ a_{2,1} & a_{2,2} & a_{2,3} \\end{bmatrix}.$$\n",
    "\n"
   ]
  },
  {
   "cell_type": "markdown",
   "metadata": {},
   "source": [
    "## High Level Design\n"
   ]
  },
  {
   "cell_type": "markdown",
   "metadata": {},
   "source": [
    "## Program/Hardware Design\n"
   ]
  },
  {
   "cell_type": "markdown",
   "metadata": {},
   "source": [
    "### Model Implementation\n",
    "In this section, we will dive deep into the math behind each of the layers in the model and how we rederived the transformation functions of each layer to fit on the FPGA. \n",
    "\n",
    "As a reminder, our model ingests some image of a hand-drawn digit and outputs a number between 0 and 9 which corresponds to the prediction of the model. The image is a 28 by 28 2D array of values between 0 and 255, or rather, some input image $img$ can be represented as\n",
    "$$img=\\begin{bmatrix} \n",
    "  p_{1,1} & \\dots & p_{1,j} & \\dots & p_{1,28} \\\\ \n",
    "  \\vdots & \\ddots & & & \\vdots \\\\\n",
    "  p_{i, 1} & \\dots & p_{i, j} & \\dots & p_{i, 28} \\\\\n",
    "  \\vdots & & & \\ddots & \\vdots \\\\\n",
    "  p_{28, 1} & \\dots & p_{28, j} & \\dots & p_{28, 28}\n",
    "\\end{bmatrix}$$\n",
    "such that $0\\leq p_{i,j}\\leq255$. \n",
    "\n",
    "Moreover, we can think of our model $M$ as a function that maps some input $img$ to some output prediction $pred$, or rather, the inference of our model can be represented by \n",
    "$$M(img)=pred$$\n",
    "for some output prediction $0\\leq pred\\leq9$. \n",
    "\n",
    "Furtheremore, we can also express each of the layers in our model as a a function. Let $L=\\{L_1,\\dots,L_i,\\dots,L_4\\} be the layers in our model. Then we can represent each layer $L_i$ as some function \n",
    "$$L_i(V_i^{in})=V_i^{out},$$\n",
    "where $V_{in}$ and $V_{out}$ are matrices whose shapes are defined by $L_i$. \n",
    "\n",
    "With this new notation, we can redfine $M$ in terms of its layers:\n",
    "$$\\begin{align*}\n",
    "  M(img) & =L_4(L_3(L_2(L_1(img)))) \\\\\n",
    "  & =pred.\n",
    "\\end{align*}$$\n",
    "Thus, a model's prediction is simply the output of its cascaded layer functions.\n",
    "\n",
    "Let's now take a look at each of the layers and how we can rederive their functions to be built on the FPGA.\n"
   ]
  },
  {
   "cell_type": "markdown",
   "metadata": {},
   "source": [
    "#### Layer 1: Conv2D\n",
    "The 2D convolutional layer has weights $W^1$ and biases $B^1$ that are defined by \n",
    "$$\\begin{align*}\n",
    "    & W^1:[x,y,z]=\n",
    "    \\begin{bmatrix}\n",
    "        \\begin{bmatrix}\n",
    "            W^1_{1,1} = \\begin{bmatrix} o_1 & \\dots & o_z \\end{bmatrix} \\\\\n",
    "            \\vdots \\\\\n",
    "            W^1_{1,y} = \\begin{bmatrix} p_1 & \\dots & p_z \\end{bmatrix}\n",
    "        \\end{bmatrix}\n",
    "        & \\dots &\n",
    "        \\begin{bmatrix}\n",
    "            W^1_{x, 1} = \\begin{bmatrix} q_1 & \\dots & q_z \\end{bmatrix} \\\\\n",
    "            \\vdots \\\\\n",
    "            W^1_{x, y} = \\begin{bmatrix} r_1 & \\dots & r_z \\end{bmatrix}\n",
    "        \\end{bmatrix}\n",
    "    \\end{bmatrix}, \\\\\n",
    "    & B^1:[z]=\\begin{bmatrix} b_1 & \\dots & b_z \\end{bmatrix}.\n",
    "\\end{align*}$$"
   ]
  },
  {
   "cell_type": "markdown",
   "metadata": {},
   "source": [
    "## Results of the Design\n"
   ]
  },
  {
   "cell_type": "markdown",
   "metadata": {},
   "source": [
    "## Conclusions"
   ]
  }
 ],
 "metadata": {
  "interpreter": {
   "hash": "d821b4a64170991985eb45db6935869b280903e397e6926b4c3c85848ee05baf"
  },
  "kernelspec": {
   "display_name": "Python 3.8.9 ('.venv': venv)",
   "language": "python",
   "name": "python3"
  },
  "language_info": {
   "name": "python",
   "version": "3.8.9"
  },
  "orig_nbformat": 4
 },
 "nbformat": 4,
 "nbformat_minor": 2
}
