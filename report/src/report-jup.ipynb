{
 "cells": [
  {
   "cell_type": "markdown",
   "metadata": {},
   "source": [
    "## This is my name\n",
    "hello $x = 5$"
   ]
  }
 ],
 "metadata": {
  "interpreter": {
   "hash": "d821b4a64170991985eb45db6935869b280903e397e6926b4c3c85848ee05baf"
  },
  "kernelspec": {
   "display_name": "Python 3.8.9 ('.venv': venv)",
   "language": "python",
   "name": "python3"
  },
  "language_info": {
   "name": "python",
   "version": "3.8.9"
  },
  "orig_nbformat": 4
 },
 "nbformat": 4,
 "nbformat_minor": 2
}
